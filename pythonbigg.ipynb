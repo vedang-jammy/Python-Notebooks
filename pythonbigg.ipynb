{
 "cells": [
  {
   "cell_type": "code",
   "execution_count": 1,
   "id": "greatest-masters",
   "metadata": {},
   "outputs": [],
   "source": [
    "mystring = 'mississipi'"
   ]
  },
  {
   "cell_type": "code",
   "execution_count": 4,
   "id": "dominant-grenada",
   "metadata": {},
   "outputs": [],
   "source": [
    "mylist = mystring.split()"
   ]
  },
  {
   "cell_type": "code",
   "execution_count": 5,
   "id": "ahead-saturn",
   "metadata": {},
   "outputs": [
    {
     "data": {
      "text/plain": [
       "['mississipi']"
      ]
     },
     "execution_count": 5,
     "metadata": {},
     "output_type": "execute_result"
    }
   ],
   "source": [
    "mylist"
   ]
  },
  {
   "cell_type": "code",
   "execution_count": 6,
   "id": "august-fifty",
   "metadata": {},
   "outputs": [
    {
     "data": {
      "text/plain": [
       "{'i', 'm', 'p', 's'}"
      ]
     },
     "execution_count": 6,
     "metadata": {},
     "output_type": "execute_result"
    }
   ],
   "source": [
    "set(mystring)"
   ]
  },
  {
   "cell_type": "code",
   "execution_count": null,
   "id": "blank-drain",
   "metadata": {},
   "outputs": [],
   "source": []
  }
 ],
 "metadata": {
  "kernelspec": {
   "display_name": "Python 3",
   "language": "python",
   "name": "python3"
  },
  "language_info": {
   "codemirror_mode": {
    "name": "ipython",
    "version": 3
   },
   "file_extension": ".py",
   "mimetype": "text/x-python",
   "name": "python",
   "nbconvert_exporter": "python",
   "pygments_lexer": "ipython3",
   "version": "3.9.1"
  }
 },
 "nbformat": 4,
 "nbformat_minor": 5
}
